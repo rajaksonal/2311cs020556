{
  "nbformat": 4,
  "nbformat_minor": 0,
  "metadata": {
    "colab": {
      "provenance": []
    },
    "kernelspec": {
      "name": "python3",
      "display_name": "Python 3"
    },
    "language_info": {
      "name": "python"
    }
  },
  "cells": [
    {
      "cell_type": "code",
      "execution_count": 2,
      "metadata": {
        "colab": {
          "base_uri": "https://localhost:8080/"
        },
        "id": "0Y4dddRBvGWZ",
        "outputId": "a66f4910-285a-4600-aeb4-df2cccbfe14f"
      },
      "outputs": [
        {
          "output_type": "stream",
          "name": "stdout",
          "text": [
            "variance of stock prices:6.233333333333333\n",
            "variance of stock prices(using Numpy):6.2333333333333325\n"
          ]
        }
      ],
      "source": [
        "import statistics\n",
        "import numpy as np\n",
        "stock_prices = [100,102,98,105,101,97,99,103,100,98]\n",
        "variance=statistics.variance(stock_prices)\n",
        "print(f\"variance of stock prices:{variance}\")\n",
        "numpy_variance=np.var(stock_prices, ddof=1)\n",
        "print(f\"variance of stock prices(using Numpy):{numpy_variance}\")\n",
        "\n",
        "\n"
      ]
    }
  ]
}