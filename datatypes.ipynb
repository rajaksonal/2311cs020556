{
  "nbformat": 4,
  "nbformat_minor": 0,
  "metadata": {
    "colab": {
      "provenance": []
    },
    "kernelspec": {
      "name": "python3",
      "display_name": "Python 3"
    },
    "language_info": {
      "name": "python"
    }
  },
  "cells": [
    {
      "cell_type": "code",
      "execution_count": 1,
      "metadata": {
        "colab": {
          "base_uri": "https://localhost:8080/"
        },
        "id": "wUWs2sP99_fq",
        "outputId": "58e28d89-d9ba-4903-8071-2de083aceeff"
      },
      "outputs": [
        {
          "output_type": "stream",
          "name": "stdout",
          "text": [
            "Integer variable: 10 Type: <class 'int'>\n",
            "Float variable: 3.14 Type: <class 'float'>\n",
            "String variable: Hello, Jupyter! Type: <class 'str'>\n",
            "Boolean variable: True Type: <class 'bool'>\n"
          ]
        }
      ],
      "source": [
        "integer_var = 10\n",
        "float_var = 3.14\n",
        "string_var = \"Hello, Jupyter!\"\n",
        "boolean_var = True\n",
        "\n",
        "print(\"Integer variable:\", integer_var, \"Type:\", type(integer_var))\n",
        "print(\"Float variable:\", float_var, \"Type:\", type(float_var))\n",
        "print(\"String variable:\", string_var, \"Type:\", type(string_var))\n",
        "print(\"Boolean variable:\", boolean_var, \"Type:\", type(boolean_var))\n"
      ]
    }
  ]
}