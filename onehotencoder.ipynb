{
  "nbformat": 4,
  "nbformat_minor": 0,
  "metadata": {
    "colab": {
      "provenance": []
    },
    "kernelspec": {
      "name": "python3",
      "display_name": "Python 3"
    },
    "language_info": {
      "name": "python"
    }
  },
  "cells": [
    {
      "cell_type": "code",
      "source": [
        "import pandas as pd\n",
        "from sklearn.preprocessing import OneHotEncoder\n",
        "data={\n",
        "    \"customer_id\":[1,2,3,4],\n",
        "    \"gender\":[\"male\",\"female\",\"male\",\"female\"],\n",
        "    \"city\":[\"hyderabad\",\"pune\",\"banglore\",\"mumbai\",],\n",
        "    \"fruits\":[\"apple\",\"oragne\",\"kiwi\",\"banana\"]\n",
        "}\n",
        "df=pd.DataFrame(data)\n",
        "print(\"Original DataFrame:\")\n",
        "print(df)\n",
        "one_hot_encoder = OneHotEncoder(sparse_output=False, handle_unknown='ignore')\n",
        "columns_to_encode=[\"gender\",\"city\",\"fruits\"]\n",
        "encoded_data = one_hot_encoder.fit_transform(df[columns_to_encode])\n",
        "encoded_columns = one_hot_encoder.get_feature_names_out(columns_to_encode)\n"
      ],
      "metadata": {
        "colab": {
          "base_uri": "https://localhost:8080/"
        },
        "id": "bBilWs3ht2aI",
        "outputId": "8d1dbc7c-74e6-4659-f014-77d4593e5362"
      },
      "execution_count": 7,
      "outputs": [
        {
          "output_type": "stream",
          "name": "stdout",
          "text": [
            "Original DataFrame:\n",
            "   customer_id  gender       city  fruits\n",
            "0            1    male  hyderabad   apple\n",
            "1            2  female       pune  oragne\n",
            "2            3    male   banglore    kiwi\n",
            "3            4  female     mumbai  banana\n"
          ]
        }
      ]
    }
  ]
}