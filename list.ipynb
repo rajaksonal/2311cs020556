{
  "nbformat": 4,
  "nbformat_minor": 0,
  "metadata": {
    "colab": {
      "provenance": []
    },
    "kernelspec": {
      "name": "python3",
      "display_name": "Python 3"
    },
    "language_info": {
      "name": "python"
    }
  },
  "cells": [
    {
      "cell_type": "code",
      "execution_count": 1,
      "metadata": {
        "colab": {
          "base_uri": "https://localhost:8080/"
        },
        "id": "bXfdIGsl-8AT",
        "outputId": "3cd3eeb0-4d31-452a-8748-0bc89ce9a528"
      },
      "outputs": [
        {
          "output_type": "stream",
          "name": "stdout",
          "text": [
            "List: [10, 20, 30, 40, 50]\n",
            "Element at index 0 (first element): 10\n",
            "Element at index 2 (third element): 30\n",
            "Element at index -1 (last element): 50\n",
            "\n",
            "Tuple: (100, 200, 300, 400, 500)\n",
            "Element at index 1 (second element): 200\n",
            "Element at index 3 (fourth element): 400\n",
            "Element at index -2 (second to last element): 400\n",
            "\n",
            "Dictionary: {'name': 'Alice', 'age': 25, 'city': 'New York', 'job': 'Engineer', 'hobby': 'Reading'}\n",
            "Value for key 'name': Alice\n",
            "Value for key 'age': 25\n",
            "Value for key 'hobby': Reading\n"
          ]
        }
      ],
      "source": [
        "my_list = [10, 20, 30, 40, 50]\n",
        "\n",
        "print(\"List:\", my_list)\n",
        "print(\"Element at index 0 (first element):\", my_list[0])\n",
        "print(\"Element at index 2 (third element):\", my_list[2])\n",
        "print(\"Element at index -1 (last element):\", my_list[-1])\n",
        "\n",
        "\n",
        "my_tuple = (100, 200, 300, 400, 500)\n",
        "print(\"\\nTuple:\", my_tuple)\n",
        "print(\"Element at index 1 (second element):\", my_tuple[1])\n",
        "print(\"Element at index 3 (fourth element):\", my_tuple[3])\n",
        "print(\"Element at index -2 (second to last element):\", my_tuple[-2])\n",
        "\n",
        "my_dict = {\n",
        "    'name': 'Alice',\n",
        "    'age': 25,\n",
        "    'city': 'New York',\n",
        "    'job': 'Engineer',\n",
        "    'hobby': 'Reading'\n",
        "}\n",
        "\n",
        "print(\"\\nDictionary:\", my_dict)\n",
        "print(\"Value for key 'name':\", my_dict['name'])\n",
        "print(\"Value for key 'age':\", my_dict['age'])\n",
        "print(\"Value for key 'hobby':\", my_dict['hobby'])\n"
      ]
    }
  ]
}